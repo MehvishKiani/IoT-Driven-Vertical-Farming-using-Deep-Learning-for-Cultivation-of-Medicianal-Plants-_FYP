{
  "nbformat": 4,
  "nbformat_minor": 0,
  "metadata": {
    "colab": {
      "provenance": []
    },
    "kernelspec": {
      "name": "python3",
      "display_name": "Python 3"
    },
    "language_info": {
      "name": "python"
    }
  },
  "cells": [
    {
      "cell_type": "code",
      "execution_count": 1,
      "metadata": {
        "colab": {
          "base_uri": "https://localhost:8080/"
        },
        "id": "WM8XoxbiQrts",
        "outputId": "e8dc17b5-1d10-46d9-af92-c250542b30c7"
      },
      "outputs": [
        {
          "output_type": "stream",
          "name": "stdout",
          "text": [
            "Balanced Dataset Shape: (100000, 7)\n",
            "\n",
            "Balanced Class Distribution:\n",
            " Crop\n",
            "Ashwagandha    10000\n",
            "Neem           10000\n",
            "Fenugreek      10000\n",
            "Lemongrass     10000\n",
            "Tulsi          10000\n",
            "Chamomile      10000\n",
            "Turmeric       10000\n",
            "Moringa        10000\n",
            "Peppermint     10000\n",
            "Aloe Vera      10000\n",
            "Name: count, dtype: int64\n"
          ]
        }
      ],
      "source": [
        "import pandas as pd\n",
        "import numpy as np\n",
        "from sklearn.preprocessing import LabelEncoder\n",
        "from imblearn.over_sampling import SMOTE\n",
        "import seaborn as sns\n",
        "import matplotlib.pyplot as plt\n",
        "\n",
        "# Step 1: Load dataset\n",
        "df = pd.read_csv(\"/content/medicinal_plants_100k_dataset.csv\")\n",
        "\n",
        "# Step 2: Separate features and labels\n",
        "X = df.drop('Crop', axis=1)\n",
        "y = df['Crop']\n",
        "\n",
        "# Step 3: Encode class labels\n",
        "le = LabelEncoder()\n",
        "y_encoded = le.fit_transform(y)\n",
        "\n",
        "# Step 4: Define sampling strategy to get 10,000 samples per class\n",
        "unique_classes, class_counts = np.unique(y_encoded, return_counts=True)\n",
        "sampling_strategy = {\n",
        "    label: 10000 for label, count in zip(unique_classes, class_counts) if count < 10000\n",
        "}\n",
        "\n",
        "# Step 5: Apply SMOTE\n",
        "smote = SMOTE(sampling_strategy=sampling_strategy, random_state=42)\n",
        "X_resampled, y_resampled = smote.fit_resample(X, y_encoded)\n",
        "\n",
        "# Step 6: Convert back to class names\n",
        "y_resampled_labels = le.inverse_transform(y_resampled)\n",
        "\n",
        "# Step 7: Combine into DataFrame\n",
        "balanced_df = pd.DataFrame(X_resampled, columns=X.columns)\n",
        "balanced_df['Crop'] = y_resampled_labels\n",
        "\n",
        "# Step 8: Add back original oversampled crops to reach exactly 10K each\n",
        "original_df = df[df['Crop'].isin(le.inverse_transform(list(sampling_strategy.keys())))]\n",
        "original_df_encoded = le.transform(original_df['Crop'])\n",
        "original_df_sampled = pd.DataFrame()\n",
        "\n",
        "for class_id in sampling_strategy.keys():\n",
        "    samples_needed = 10000 - sampling_strategy[class_id]\n",
        "    class_name = le.inverse_transform([class_id])[0]\n",
        "    class_df = df[df['Crop'] == class_name]\n",
        "    sampled_df = class_df.sample(n=samples_needed, random_state=42)\n",
        "    original_df_sampled = pd.concat([original_df_sampled, sampled_df])\n",
        "\n",
        "# Combine SMOTE output and real data to reach 10K per class\n",
        "final_df = pd.concat([balanced_df, original_df_sampled], ignore_index=True)\n",
        "\n",
        "# Optional: shuffle the data\n",
        "final_df = final_df.sample(frac=1, random_state=42).reset_index(drop=True)\n",
        "\n",
        "# Step 9: Check result\n",
        "print(\"Balanced Dataset Shape:\", final_df.shape)\n",
        "print(\"\\nBalanced Class Distribution:\\n\", final_df['Crop'].value_counts())\n"
      ]
    },
    {
      "cell_type": "code",
      "source": [],
      "metadata": {
        "id": "zwWllCvER5lt"
      },
      "execution_count": null,
      "outputs": []
    }
  ]
}